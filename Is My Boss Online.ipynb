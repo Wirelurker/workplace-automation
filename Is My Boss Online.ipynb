{
 "cells": [
  {
   "cell_type": "markdown",
   "metadata": {},
   "source": [
    "# Is My Boss Online?!\n",
    "\n",
    "_Check my boss's location and slack status, and then alert me._\n",
    "\n",
    "- Step 0: Establish variables / import py libraries\n",
    "- Step 1: Get status and location of boss\n",
    "- Step 2: Check if boss is active\n",
    "- Step 3: Alert me when she comes online"
   ]
  },
  {
   "cell_type": "markdown",
   "metadata": {},
   "source": [
    "Step 0: Establish variables / import py libraries"
   ]
  },
  {
   "cell_type": "code",
   "execution_count": 49,
   "metadata": {},
   "outputs": [],
   "source": [
    "from twilio.rest import Client\n",
    "from slack import WebClient\n",
    "from slack.errors import SlackApiError\n",
    "account_sid = 'ACe61c56ddd2f2867b221c22464a77e49f' # Twilio \n",
    "auth_token = 'SECRET TWILIO KEY' # Twilio\n",
    "slack_token = \"SECRET SLACK KEY\"\n",
    "#AUTH TOKENS HAVE BEEN CHANGED SINCE RECORDING"
   ]
  },
  {
   "cell_type": "markdown",
   "metadata": {},
   "source": [
    "Step 1: Get Status and Location of Boss"
   ]
  },
  {
   "cell_type": "code",
   "execution_count": 43,
   "metadata": {},
   "outputs": [
    {
     "name": "stdout",
     "output_type": "stream",
     "text": [
      "America/Los_Angeles active\n"
     ]
    }
   ],
   "source": [
    "client = WebClient(token=slack_token)\n",
    "where_is_she = client.users_info(user=\"UQYFQQWGY\")['user']['tz'] \n",
    "is_active = client.users_getPresence(user=\"UQYFQQWGY\")['presence']\n",
    "\n",
    "print(\"Location: \", where_is_she, \"Status: \", is_active)\n"
   ]
  },
  {
   "cell_type": "markdown",
   "metadata": {},
   "source": [
    "Step 2 / Step 3: Check if Boss is Active, Then Alert Me"
   ]
  },
  {
   "cell_type": "code",
   "execution_count": 53,
   "metadata": {},
   "outputs": [
    {
     "name": "stdout",
     "output_type": "stream",
     "text": [
      "queued\n"
     ]
    }
   ],
   "source": [
    "if is_active == \"active\":\n",
    "    client = Client(account_sid, auth_token)\n",
    "    message = client.messages.create(\n",
    "                              body=f\"\"\"HEY! Your boss just came online.  \n",
    "                                Login from {where_is_he}\"\"\",\n",
    "                              from_='+12526516421',\n",
    "                              to='+18586993722')\n",
    "print(message)"
   ]
  }
 ],
 "metadata": {
  "kernelspec": {
   "display_name": "Python 3",
   "language": "python",
   "name": "python3"
  },
  "language_info": {
   "codemirror_mode": {
    "name": "ipython",
    "version": 3
   },
   "file_extension": ".py",
   "mimetype": "text/x-python",
   "name": "python",
   "nbconvert_exporter": "python",
   "pygments_lexer": "ipython3",
   "version": "3.8.2"
  }
 },
 "nbformat": 4,
 "nbformat_minor": 4
}
