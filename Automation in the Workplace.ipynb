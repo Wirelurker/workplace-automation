{
 "cells": [
  {
   "cell_type": "markdown",
   "metadata": {},
   "source": [
    "Examples covered here:\n",
    "\n",
    "Slack Bots\n",
    "Google Sheets\n",
    "Webscraping\n",
    "iPhone API\n",
    "Data analysis\n",
    "Cut/paste with python\n",
    "Manipulate files on your computer\n",
    "\n",
    "\n",
    "\n",
    "\n",
    "What can Python do?\n",
    "    - Simple equations (really fast)\n",
    "    - Interact with data and online sources (APIs, CSVs, Online Services)\n",
    "    - Control your computer\n",
    "    - Create interactive websites\n",
    "    - Robotics\n",
    "    - Machine Learning / AI\n",
    "    \n",
    "\n",
    "What about every day life? What can I use python for?\n",
    "    - Monitor websites and alert you based on custom triggers\n",
    "    - interact with your iPhone GPS / Status\n",
    "    - Manipulate files on your computer\n",
    "    - Copy text - edit text - paste text\n",
    "    - Number crunching and statistics\n",
    "    - Moving and renaming thousands of files and sorting them into folders\n",
    "    - Filling out online forms (weekly time sheet, data entry, etc)\n",
    "    - Having your computer text you custom notifications\n",
    "    - Updating or formatting Excel spreadsheets / Google Sheets\n",
    "    - Checking your email and sending out prewritten responses\n",
    "    - Interact with hundreds of cool APIs"
   ]
  },
  {
   "cell_type": "markdown",
   "metadata": {},
   "source": [
    "# Python 101\n",
    "    - Equations\n",
    "    - Variables (convention / readability)\n",
    "    - Logic (if then)\n",
    "    - Loops (for each)\n"
   ]
  },
  {
   "cell_type": "code",
   "execution_count": null,
   "metadata": {},
   "outputs": [],
   "source": [
    "# Simple equations\n",
    "four = 2+2\n",
    "print(four)"
   ]
  },
  {
   "cell_type": "code",
   "execution_count": null,
   "metadata": {},
   "outputs": [],
   "source": [
    "# variables\n",
    "dozen = 12\n",
    "print(dozen)"
   ]
  },
  {
   "cell_type": "code",
   "execution_count": null,
   "metadata": {},
   "outputs": [],
   "source": [
    "# store more complex data\n",
    "profile = {\"name\": 'Alister Shirazi', 'height_cm': '188', 'grade': 97}\n",
    "profile['name'] # use the key name to call the value 'Alister Shirazi'"
   ]
  },
  {
   "cell_type": "code",
   "execution_count": null,
   "metadata": {},
   "outputs": [],
   "source": [
    "# logic (if / else)\n",
    "\n",
    "if profile['grade'] > 70:\n",
    "    # do something if grade is greter than 70\n",
    "    print(\"PASS\")\n",
    "else:\n",
    "    print(f\"{profile['name']} is a failure\")"
   ]
  },
  {
   "cell_type": "code",
   "execution_count": 6,
   "metadata": {},
   "outputs": [
    {
     "name": "stdout",
     "output_type": "stream",
     "text": [
      "MA - Massachusetts starts with M\n",
      "MD - Maryland starts with M\n",
      "ME - Maine starts with M\n",
      "MI - Michigan starts with M\n",
      "MN - Minnesota starts with M\n",
      "MO - Missouri starts with M\n",
      "MS - Mississippi starts with M\n",
      "MT - Montana starts with M\n"
     ]
    }
   ],
   "source": [
    "# Let's loop through a list of states, and print states that start with the letter 'M'\n",
    "\n",
    "\n",
    "states = [\n",
    "    \"AK - Alaska\", \n",
    "    \"AL - Alabama\", \n",
    "    \"AR - Arkansas\", \n",
    "    \"AS - American Samoa\", \n",
    "    \"AZ - Arizona\", \n",
    "    \"CA - California\", \n",
    "    \"CO - Colorado\", \n",
    "    \"CT - Connecticut\", \n",
    "    \"DC - District of Columbia\", \n",
    "    \"DE - Delaware\", \n",
    "    \"FL - Florida\", \n",
    "    \"GA - Georgia\", \n",
    "    \"GU - Guam\", \n",
    "    \"HI - Hawaii\", \n",
    "    \"IA - Iowa\", \n",
    "    \"ID - Idaho\", \n",
    "    \"IL - Illinois\", \n",
    "    \"IN - Indiana\", \n",
    "    \"KS - Kansas\", \n",
    "    \"KY - Kentucky\", \n",
    "    \"LA - Louisiana\", \n",
    "    \"MA - Massachusetts\", \n",
    "    \"MD - Maryland\", \n",
    "    \"ME - Maine\", \n",
    "    \"MI - Michigan\", \n",
    "    \"MN - Minnesota\", \n",
    "    \"MO - Missouri\", \n",
    "    \"MS - Mississippi\", \n",
    "    \"MT - Montana\", \n",
    "    \"NC - North Carolina\", \n",
    "    \"ND - North Dakota\", \n",
    "    \"NE - Nebraska\", \n",
    "    \"NH - New Hampshire\", \n",
    "    \"NJ - New Jersey\", \n",
    "    \"NM - New Mexico\", \n",
    "    \"NV - Nevada\", \n",
    "    \"NY - New York\", \n",
    "    \"OH - Ohio\", \n",
    "    \"OK - Oklahoma\", \n",
    "    \"OR - Oregon\", \n",
    "    \"PA - Pennsylvania\", \n",
    "    \"PR - Puerto Rico\", \n",
    "    \"RI - Rhode Island\", \n",
    "    \"SC - South Carolina\", \n",
    "    \"SD - South Dakota\", \n",
    "    \"TN - Tennessee\", \n",
    "    \"TX - Texas\", \n",
    "    \"UT - Utah\", \n",
    "    \"VA - Virginia\", \n",
    "    \"VI - Virgin Islands\", \n",
    "    \"VT - Vermont\", \n",
    "    \"WA - Washington\", \n",
    "    \"WI - Wisconsin\", \n",
    "    \"WV - West Virginia\", \n",
    "    \"WY - Wyoming\"]\n",
    "\n",
    "\n",
    "\n",
    "special_letter = 'M' # choose your letter here\n",
    "\n",
    "for state in states: # natural language loops.  easy to learn    \n",
    "    if state[0] == special_letter: # if the first letter is the 'special letter', then proceed\n",
    "        print(state + \" starts with \" + special_letter) \n",
    "    \n",
    "        \n",
    "        "
   ]
  },
  {
   "cell_type": "markdown",
   "metadata": {},
   "source": [
    "# cool stuff to do with your iPhone:\n",
    "\n",
    "Did you know you can interact with your iPhone via Python code? It's easy and great for projects!\n",
    "\n",
    "- track GPS location (and make triggers based on location)\n",
    "- get battery level information and alert friends when battery will die\n",
    "- play a sound on your iPhone (create a \"find my iphone\" hack)\n"
   ]
  },
  {
   "cell_type": "code",
   "execution_count": null,
   "metadata": {},
   "outputs": [],
   "source": [
    "from pyicloud import PyiCloudService # this is the library that makes it so easy\n",
    "api = PyiCloudService('alistershirazi@gmail.com', 'PASSWORD') # login"
   ]
  },
  {
   "cell_type": "code",
   "execution_count": null,
   "metadata": {},
   "outputs": [],
   "source": [
    "# Just one line of code and you can use your iPhone's GPS!\n",
    "location = api.iphone.location()\n",
    "\n",
    "# Get important details about the iPhone\n",
    "status = api.iphone.status()\n",
    "\n",
    "# Play a sound on your iPhone\n",
    "api.iphone.play_sound()"
   ]
  },
  {
   "cell_type": "markdown",
   "metadata": {},
   "source": [
    "# google sheets\n",
    "\n",
    "Super under-utilized feature!! If you use google sheets or excel at all for your work, you could probably save hours of your life by automating some aspect of your workflow with python. \n",
    "\n",
    "- Automate reports\n",
    "- Set alerts based on data triggers\n",
    "- Data analysis and visualization\n",
    "- integrate with google forms for data collection\n",
    "- use as an API based database in your python code"
   ]
  },
  {
   "cell_type": "code",
   "execution_count": null,
   "metadata": {},
   "outputs": [],
   "source": [
    "import pygsheets #this is the API that makes it easy to interact with google sheets\n",
    "import pandas as pd # this is a cool tool for data analyis \n",
    "pgc = pygsheets.authorize() # authorize google sheets\n",
    "workbook = pgc.open('Segmentation') # open the google spreadsheet\n",
    "sheet = workbook.worksheet_by_title('techList').get_as_df() # grab just the sheet I want"
   ]
  },
  {
   "cell_type": "code",
   "execution_count": null,
   "metadata": {
    "scrolled": true
   },
   "outputs": [],
   "source": [
    "# See just the first 5 rows of a sheet\n",
    "\n",
    "sheet.head()\n",
    "\n",
    "sheet.describe() # quick overview of the spreadsheet\n",
    "# See how columns corrolate to each other (on a scale of -1 to  1)\n",
    "sheet.corr()"
   ]
  },
  {
   "cell_type": "markdown",
   "metadata": {},
   "source": [
    "# Manipulating files on your computer\n",
    "- Change the file names of 100 files\n",
    "- Sort files into different folders based on your criteria\n",
    "- find files based on their content\n",
    "- mass email many files at once"
   ]
  },
  {
   "cell_type": "code",
   "execution_count": null,
   "metadata": {},
   "outputs": [],
   "source": [
    "# Identify and print filensames of all CSV files in a given directory\n",
    "\n",
    "import os\n",
    "my_directory = os.listdir('/Users/Desktop/file/') # grab the entire directory\n",
    "\n",
    "# loop through each file, looking for CSV files\n",
    "for file in my_directory:\n",
    "    if '.csv' in file:\n",
    "        # Do Something... (move file, change name, change file type, edit contents, upload to google sheets)\n",
    "        print(file)\n",
    "    "
   ]
  },
  {
   "cell_type": "markdown",
   "metadata": {},
   "source": [
    "# Web Scraping \n",
    "\n",
    "Web scraping is when you use code to read websites for you.  Once the code has read the websites, you can manipulate the data \n",
    "\n",
    "### (Search web pages, then return desired info or alert you)"
   ]
  },
  {
   "cell_type": "code",
   "execution_count": null,
   "metadata": {},
   "outputs": [],
   "source": [
    "# web scraping\n",
    "from bs4 import BeautifulSoup\n",
    "import requests\n",
    "site = requests.get('http://www.website.com').content #"
   ]
  },
  {
   "cell_type": "code",
   "execution_count": null,
   "metadata": {},
   "outputs": [],
   "source": [
    "# grabs all the html so you can search the website\n",
    "site_words = BeautifulSoup(site, 'html.parser') "
   ]
  },
  {
   "cell_type": "markdown",
   "metadata": {},
   "source": [
    "# Other Cool APIs to play with\n",
    "\n",
    "- Uber\n",
    "- sports\n",
    "- slack\n",
    "- twilio\n",
    "- email\n",
    "- emotion detection"
   ]
  },
  {
   "cell_type": "markdown",
   "metadata": {},
   "source": [
    "# Slack Bots - Super Simple!"
   ]
  },
  {
   "cell_type": "code",
   "execution_count": null,
   "metadata": {},
   "outputs": [],
   "source": [
    "    from slackclient import SlackClient\n",
    "    slack_token = 'SECRET_KEY'\n",
    "    sc = SlackClient(slack_token)\n",
    "    call = sc.api_call(\n",
    "        \"chat.postMessage\",\n",
    "        channel=\"#ali-test\",\n",
    "        text=\"Hey Cool! I can make a slack bot!\",\n",
    "        username=\"Test Bot\")\n"
   ]
  },
  {
   "cell_type": "markdown",
   "metadata": {},
   "source": [
    "# Cut / Paste / Alter Text "
   ]
  },
  {
   "cell_type": "code",
   "execution_count": 2,
   "metadata": {},
   "outputs": [
    {
     "name": "stdout",
     "output_type": "stream",
     "text": [
      "# copy this text and make it lower case\n"
     ]
    }
   ],
   "source": [
    "# COPY THIS TEXT AND MAKE IT LOWER CASE\n",
    "\n",
    "import pyperclip\n",
    "\n",
    "text = pyperclip.paste().lower() \n",
    "pyperclip.copy(text)\n",
    "\n",
    "print(text)\n"
   ]
  },
  {
   "cell_type": "markdown",
   "metadata": {},
   "source": [
    "## Easy Sentiment Analysis API"
   ]
  },
  {
   "cell_type": "code",
   "execution_count": null,
   "metadata": {},
   "outputs": [],
   "source": [
    "import indicoio # we will use their cool \"Sentiment Analysis\" API here\n",
    "indicoio.config.api_key = 'SECRET_KEY'\n",
    "\n",
    "# Just one simple API call to get the result! It will tell you whether your message is positive or negatively charged\n",
    "indicoio.sentiment(['as per my previous email..., i told you to get your shit together', 'Still really easy, yiss'])\n"
   ]
  },
  {
   "cell_type": "code",
   "execution_count": null,
   "metadata": {},
   "outputs": [],
   "source": []
  }
 ],
 "metadata": {
  "kernelspec": {
   "display_name": "Python 3",
   "language": "python",
   "name": "python3"
  },
  "language_info": {
   "codemirror_mode": {
    "name": "ipython",
    "version": 3
   },
   "file_extension": ".py",
   "mimetype": "text/x-python",
   "name": "python",
   "nbconvert_exporter": "python",
   "pygments_lexer": "ipython3",
   "version": "3.8.2"
  }
 },
 "nbformat": 4,
 "nbformat_minor": 2
}
